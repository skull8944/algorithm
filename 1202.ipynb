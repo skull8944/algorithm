{
  "nbformat": 4,
  "nbformat_minor": 0,
  "metadata": {
    "colab": {
      "name": "1202",
      "provenance": [],
      "collapsed_sections": [],
      "authorship_tag": "ABX9TyNt1TyyzPGgiVMqLow9d9GU",
      "include_colab_link": true
    },
    "kernelspec": {
      "name": "python3",
      "display_name": "Python 3"
    }
  },
  "cells": [
    {
      "cell_type": "markdown",
      "metadata": {
        "id": "view-in-github",
        "colab_type": "text"
      },
      "source": [
        "<a href=\"https://colab.research.google.com/github/skull8944/algorithm/blob/master/1202.ipynb\" target=\"_parent\"><img src=\"https://colab.research.google.com/assets/colab-badge.svg\" alt=\"Open In Colab\"/></a>"
      ]
    },
    {
      "cell_type": "code",
      "metadata": {
        "colab": {
          "base_uri": "https://localhost:8080/"
        },
        "id": "ZVBewG9dJDxG",
        "outputId": "7a67ade9-d65d-4f44-ba43-47e0a0cc9fe0"
      },
      "source": [
        "t=[25,20,5,1]\n",
        "def change(t, n):\n",
        "  m = [0 for _ in range(len(t))] \n",
        "  for i, money in enumerate(t): #enumerate列舉\n",
        "    m[i] = n//money\n",
        "    n = n % money\n",
        "    print(m, n)\n",
        "while(True): \n",
        "  a = input(\"請輸入價錢:\") #請使用者輸入數字\n",
        "  if a.isdigit():            #判斷a是否由數字組成\n",
        "    a = int(a)            #把a轉換成int\n",
        "    break              #a在範圍內跳出while迴圈\n",
        "change(t,a)\n",
        "\n"
      ],
      "execution_count": null,
      "outputs": [
        {
          "output_type": "stream",
          "text": [
            "請輸入價錢:27\n",
            "[1, 0, 0, 0] 2\n",
            "[1, 0, 0, 0] 2\n",
            "[1, 0, 0, 0] 2\n",
            "[1, 0, 0, 2] 0\n"
          ],
          "name": "stdout"
        }
      ]
    },
    {
      "cell_type": "code",
      "metadata": {
        "id": "Z_Wk4nUAT-ic",
        "colab": {
          "base_uri": "https://localhost:8080/"
        },
        "outputId": "c22b26be-3617-4c35-a79a-3add1596c1b4"
      },
      "source": [
        "# need_change 找零的金額\n",
        "# currency_list 貨幣面額表\n",
        "# num_list 需要找零的最少貨幣數目, num_list的長度至少為(need_change+1)\n",
        "def giveChange(need_change, currency_list, num_list):\n",
        "  for change in range(need_change+1): #從0開始計算最少需要的貨幣數\n",
        "    for currency in currency_list: #遍歷每一種貨幣\n",
        "      if (change >= currency) and (num_list[change - currency] + 1 < num_list[change]): #計算最少貨幣需求數\n",
        "        num_list[change] = num_list[change-currency] + 1\n",
        "  return\n",
        "\n",
        "need_change = 63\n",
        "currency_list = [1,5,10,21,25]\n",
        "num_list = list(range(need_change+1)) #初始化num_list為0到need_change,共(need_change+1)個數\n",
        "giveChange(need_change, currency_list, num_list)\n",
        "print(\"%d 需要 %d 個貨幣來找零\"%(need_change, num_list[need_change]))"
      ],
      "execution_count": 48,
      "outputs": [
        {
          "output_type": "stream",
          "text": [
            "63 需要 3 個貨幣來找零\n"
          ],
          "name": "stdout"
        }
      ]
    },
    {
      "cell_type": "code",
      "metadata": {
        "id": "sieaY-AiUBIb",
        "colab": {
          "base_uri": "https://localhost:8080/"
        },
        "outputId": "2bd74be8-8314-4feb-b77f-df48f55fade9"
      },
      "source": [
        "#背包Greedy\n",
        "def greedy(w, v, b, g):\n",
        "  totalValue = 0\n",
        "  totalWeight = 0\n",
        "  while totalWeight + w[v.index(max(v))] <= b:      \n",
        "    totalValue += max(v)\n",
        "    totalWeight += w[v.index(max(v))]\n",
        "    print('拿了',g[v.index(max(v))], w[v.index(max(v))],'kg共',totalValue,'錢')\n",
        "    g.remove(g[v.index(max(v))])   \n",
        "    w.remove(w[v.index(max(v))])\n",
        "    v.remove(max(v))\n",
        "\n",
        "goodsW = [5, 1, 4, 3, 2]\n",
        "goodsV = [17000, 35000 ,60000, 9000 ,20000]\n",
        "goods  = [\"PS5\", \"iPad pro 12\", \"Macbook pro 15\", \"HomePod\", \"Mac mini\"]\n",
        "backpack = 10\n",
        "greedy(goodsW, goodsV, backpack, goods)"
      ],
      "execution_count": 76,
      "outputs": [
        {
          "output_type": "stream",
          "text": [
            "拿了 Macbook pro 15 4 kg共 60000 錢\n",
            "拿了 iPad pro 12 1 kg共 95000 錢\n",
            "拿了 Mac mini 2 kg共 115000 錢\n"
          ],
          "name": "stdout"
        }
      ]
    },
    {
      "cell_type": "code",
      "metadata": {
        "colab": {
          "base_uri": "https://localhost:8080/"
        },
        "id": "s-8C3vNqURNp",
        "outputId": "77444734-7677-43c6-9f9d-589753d6eb7a"
      },
      "source": [
        "def knapSack(W, wt, val, n): \n",
        "  K = [[0 for x in range(W + 1)] for x in range(n + 1)] \n",
        "  for i in range(n + 1): \n",
        "    for w in range(W + 1): \n",
        "      if i == 0 or w == 0: \n",
        "        K[i][w] = 0\n",
        "      elif wt[i-1] <= w: \n",
        "        K[i][w] = max(val[i-1] + K[i-1][w-wt[i-1]],  K[i-1][w])\n",
        "      else: \n",
        "        K[i][w] = K[i-1][w]\n",
        "    print(\"目前價值\",K[i][w])\n",
        "  return K[n][W]\n",
        "goods = [\"PS5\",\"iPad pro 12\",\"Macbook pro 15\",\"HomePod\",\"Mac mini\"]\n",
        "val = [17000,35000,60000,9000,20000] \n",
        "wt = [5,1,4,3,2] \n",
        "W = 10\n",
        "n = len(val) \n",
        "print(\"最佳拿法價值\",knapSack(W, wt, val, n))"
      ],
      "execution_count": 77,
      "outputs": [
        {
          "output_type": "stream",
          "text": [
            "目前價值 0\n",
            "目前價值 17000\n",
            "目前價值 52000\n",
            "目前價值 112000\n",
            "目前價值 112000\n",
            "目前價值 124000\n",
            "最佳拿法價值 124000\n"
          ],
          "name": "stdout"
        }
      ]
    }
  ]
}