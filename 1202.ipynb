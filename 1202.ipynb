{
  "nbformat": 4,
  "nbformat_minor": 0,
  "metadata": {
    "colab": {
      "name": "1202",
      "provenance": [],
      "collapsed_sections": [],
      "authorship_tag": "ABX9TyNZu2dYrREuxHWJ5ASF0dIv",
      "include_colab_link": true
    },
    "kernelspec": {
      "name": "python3",
      "display_name": "Python 3"
    }
  },
  "cells": [
    {
      "cell_type": "markdown",
      "metadata": {
        "id": "view-in-github",
        "colab_type": "text"
      },
      "source": [
        "<a href=\"https://colab.research.google.com/github/skull8944/algorithm/blob/master/1202.ipynb\" target=\"_parent\"><img src=\"https://colab.research.google.com/assets/colab-badge.svg\" alt=\"Open In Colab\"/></a>"
      ]
    },
    {
      "cell_type": "code",
      "metadata": {
        "colab": {
          "base_uri": "https://localhost:8080/"
        },
        "id": "ZVBewG9dJDxG",
        "outputId": "d0141f42-2ec2-4241-fca4-9e34f9a395ec"
      },
      "source": [
        "t=[25,20,5,1]\n",
        "def change(t, n):\n",
        "  m = [0 for _ in range(len(t))] \n",
        "  for i, money in enumerate(t): #enumerate列舉\n",
        "    m[i] = n//money\n",
        "    n = n % money\n",
        "    print(m, n)\n",
        "change(t,41)\n",
        "\n"
      ],
      "execution_count": 12,
      "outputs": [
        {
          "output_type": "stream",
          "text": [
            "[1, 0, 0, 0] 16\n",
            "[1, 0, 0, 0] 16\n",
            "[1, 0, 3, 0] 1\n",
            "[1, 0, 3, 1] 0\n"
          ],
          "name": "stdout"
        }
      ]
    }
  ]
}