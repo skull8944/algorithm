{
  "nbformat": 4,
  "nbformat_minor": 0,
  "metadata": {
    "colab": {
      "name": "1202",
      "provenance": [],
      "collapsed_sections": [],
      "authorship_tag": "ABX9TyOAXQHPBcQn5rVi+JNdMn1e",
      "include_colab_link": true
    },
    "kernelspec": {
      "name": "python3",
      "display_name": "Python 3"
    }
  },
  "cells": [
    {
      "cell_type": "markdown",
      "metadata": {
        "id": "view-in-github",
        "colab_type": "text"
      },
      "source": [
        "<a href=\"https://colab.research.google.com/github/skull8944/algorithm/blob/master/1202.ipynb\" target=\"_parent\"><img src=\"https://colab.research.google.com/assets/colab-badge.svg\" alt=\"Open In Colab\"/></a>"
      ]
    },
    {
      "cell_type": "code",
      "metadata": {
        "colab": {
          "base_uri": "https://localhost:8080/"
        },
        "id": "ZVBewG9dJDxG",
        "outputId": "7a67ade9-d65d-4f44-ba43-47e0a0cc9fe0"
      },
      "source": [
        "t=[25,20,5,1]\n",
        "def change(t, n):\n",
        "  m = [0 for _ in range(len(t))] \n",
        "  for i, money in enumerate(t): #enumerate列舉\n",
        "    m[i] = n//money\n",
        "    n = n % money\n",
        "    print(m, n)\n",
        "while(True): \n",
        "  a = input(\"請輸入價錢:\") #請使用者輸入數字\n",
        "  if a.isdigit():            #判斷a是否由數字組成\n",
        "    a = int(a)            #把a轉換成int\n",
        "    break              #a在範圍內跳出while迴圈\n",
        "change(t,a)\n",
        "\n"
      ],
      "execution_count": 28,
      "outputs": [
        {
          "output_type": "stream",
          "text": [
            "請輸入價錢:27\n",
            "[1, 0, 0, 0] 2\n",
            "[1, 0, 0, 0] 2\n",
            "[1, 0, 0, 0] 2\n",
            "[1, 0, 0, 2] 0\n"
          ],
          "name": "stdout"
        }
      ]
    }
  ]
}