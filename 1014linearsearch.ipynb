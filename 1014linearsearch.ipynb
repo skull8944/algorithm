{
  "nbformat": 4,
  "nbformat_minor": 0,
  "metadata": {
    "colab": {
      "name": "1014linearsearch.ipynb",
      "provenance": [],
      "collapsed_sections": [],
      "authorship_tag": "ABX9TyMI+Hy8mTflJBSDj33W+e48",
      "include_colab_link": true
    },
    "kernelspec": {
      "name": "python3",
      "display_name": "Python 3"
    }
  },
  "cells": [
    {
      "cell_type": "markdown",
      "metadata": {
        "id": "view-in-github",
        "colab_type": "text"
      },
      "source": [
        "<a href=\"https://colab.research.google.com/github/skull8944/algorithm/blob/master/1014linearsearch.ipynb\" target=\"_parent\"><img src=\"https://colab.research.google.com/assets/colab-badge.svg\" alt=\"Open In Colab\"/></a>"
      ]
    },
    {
      "cell_type": "code",
      "metadata": {
        "id": "OeHG2ui7w2IQ",
        "outputId": "f100c705-56ca-41e2-bcfa-72e1eb071275",
        "colab": {
          "base_uri": "https://localhost:8080/",
          "height": 34
        }
      },
      "source": [
        "data = [20,31,50,17,16,36,19,8]\n",
        "def linearsearch(data,key):\n",
        "  for i in data:  \n",
        "    if i == key:\n",
        "      print(i,\"找到了，在data中的第\",data.index(i),\"個\")\n",
        "      break  \n",
        "    #if data.index(i) == len(data)-1:\n",
        "      #print(\"找不到\")\n",
        "  else:\n",
        "    print(\"找不到\")\n",
        "\n",
        "linearsearch(data,8)"
      ],
      "execution_count": 19,
      "outputs": [
        {
          "output_type": "stream",
          "text": [
            "8 找到了，在data中的第 7 個\n"
          ],
          "name": "stdout"
        }
      ]
    },
    {
      "cell_type": "code",
      "metadata": {
        "id": "W2zFRfP5xI0W"
      },
      "source": [
        ""
      ],
      "execution_count": null,
      "outputs": []
    }
  ]
}