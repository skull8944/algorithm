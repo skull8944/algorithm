{
  "nbformat": 4,
  "nbformat_minor": 0,
  "metadata": {
    "colab": {
      "name": "insertionsort.ipynb",
      "provenance": [],
      "collapsed_sections": [],
      "include_colab_link": true
    },
    "kernelspec": {
      "name": "python3",
      "display_name": "Python 3"
    }
  },
  "cells": [
    {
      "cell_type": "markdown",
      "metadata": {
        "id": "view-in-github",
        "colab_type": "text"
      },
      "source": [
        "<a href=\"https://colab.research.google.com/github/skull8944/algorithm/blob/master/insertionsort.ipynb\" target=\"_parent\"><img src=\"https://colab.research.google.com/assets/colab-badge.svg\" alt=\"Open In Colab\"/></a>"
      ]
    },
    {
      "cell_type": "markdown",
      "metadata": {
        "id": "j95w6SLwOC0z",
        "colab_type": "text"
      },
      "source": [
        "Insertion sort (插入排序)"
      ]
    },
    {
      "cell_type": "code",
      "metadata": {
        "id": "BxBaYEwzNj_v",
        "colab_type": "code",
        "colab": {
          "base_uri": "https://localhost:8080/",
          "height": 302
        },
        "outputId": "22179cba-b2c8-48e9-dd8e-0c6aeb187031"
      },
      "source": [
        "\n",
        "def Insertion_Sort(datas):\n",
        "    for i in range(1, len(datas)):  # \n",
        "        for j in range(i):\n",
        "            current = datas[i]\n",
        "            if current < datas[j]:\n",
        "                for k in range(i,j):\n",
        "                  print(datas)\n",
        "    return datas\n",
        "\n",
        "\n",
        "def insertionSort(arr):\n",
        "    for i in range(len(arr)):\n",
        "        preIndex = i-1\n",
        "        current = arr[i]\n",
        "        while preIndex >= 0 and arr[preIndex] > current:\n",
        "            arr[preIndex+1] = arr[preIndex]\n",
        "            preIndex-=1\n",
        "        arr[preIndex+1] = current\n",
        "        print(arr)\n",
        "    return arr\n",
        "\n",
        "if __name__ == '__main__':\n",
        "    import random\n",
        "    a = list(range(16))\n",
        "    random.shuffle(a)\n",
        "    b = a.copy()\n",
        "\n",
        "    arr = insertionSort(a)\n",
        "    print('---'*10)\n",
        "    Insertion_Sort(b)"
      ],
      "execution_count": 1,
      "outputs": [
        {
          "output_type": "stream",
          "text": [
            "[14, 13, 3, 6, 7, 1, 11, 12, 9, 2, 15, 5, 4, 0, 8, 10]\n",
            "[13, 14, 3, 6, 7, 1, 11, 12, 9, 2, 15, 5, 4, 0, 8, 10]\n",
            "[3, 13, 14, 6, 7, 1, 11, 12, 9, 2, 15, 5, 4, 0, 8, 10]\n",
            "[3, 6, 13, 14, 7, 1, 11, 12, 9, 2, 15, 5, 4, 0, 8, 10]\n",
            "[3, 6, 7, 13, 14, 1, 11, 12, 9, 2, 15, 5, 4, 0, 8, 10]\n",
            "[1, 3, 6, 7, 13, 14, 11, 12, 9, 2, 15, 5, 4, 0, 8, 10]\n",
            "[1, 3, 6, 7, 11, 13, 14, 12, 9, 2, 15, 5, 4, 0, 8, 10]\n",
            "[1, 3, 6, 7, 11, 12, 13, 14, 9, 2, 15, 5, 4, 0, 8, 10]\n",
            "[1, 3, 6, 7, 9, 11, 12, 13, 14, 2, 15, 5, 4, 0, 8, 10]\n",
            "[1, 2, 3, 6, 7, 9, 11, 12, 13, 14, 15, 5, 4, 0, 8, 10]\n",
            "[1, 2, 3, 6, 7, 9, 11, 12, 13, 14, 15, 5, 4, 0, 8, 10]\n",
            "[1, 2, 3, 5, 6, 7, 9, 11, 12, 13, 14, 15, 4, 0, 8, 10]\n",
            "[1, 2, 3, 4, 5, 6, 7, 9, 11, 12, 13, 14, 15, 0, 8, 10]\n",
            "[0, 1, 2, 3, 4, 5, 6, 7, 9, 11, 12, 13, 14, 15, 8, 10]\n",
            "[0, 1, 2, 3, 4, 5, 6, 7, 8, 9, 11, 12, 13, 14, 15, 10]\n",
            "[0, 1, 2, 3, 4, 5, 6, 7, 8, 9, 10, 11, 12, 13, 14, 15]\n",
            "------------------------------\n"
          ],
          "name": "stdout"
        }
      ]
    }
  ]
}