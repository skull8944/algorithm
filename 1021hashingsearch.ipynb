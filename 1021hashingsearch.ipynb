{
  "nbformat": 4,
  "nbformat_minor": 0,
  "metadata": {
    "colab": {
      "name": "1021hashingsearch.ipynb",
      "provenance": [],
      "authorship_tag": "ABX9TyOcpyUzIpoE2HTxQriG29x9",
      "include_colab_link": true
    },
    "kernelspec": {
      "name": "python3",
      "display_name": "Python 3"
    }
  },
  "cells": [
    {
      "cell_type": "markdown",
      "metadata": {
        "id": "view-in-github",
        "colab_type": "text"
      },
      "source": [
        "<a href=\"https://colab.research.google.com/github/skull8944/algorithm/blob/master/1021hashingsearch.ipynb\" target=\"_parent\"><img src=\"https://colab.research.google.com/assets/colab-badge.svg\" alt=\"Open In Colab\"/></a>"
      ]
    },
    {
      "cell_type": "code",
      "metadata": {
        "id": "bMReyMFAA3_b",
        "outputId": "b4ac1507-fb0e-4383-aee1-e7702872ad9b",
        "colab": {
          "base_uri": "https://localhost:8080/",
          "height": 218
        }
      },
      "source": [
        "#線性探測法(linear probing)\n",
        "import random\n",
        "INDEXBOX=10 #雜湊表最大元素\n",
        "MAXNUM=7   #最大資料個數\n",
        "\n",
        "def print_data(data, max_number):\n",
        "  print(\"\\t\", end=\"\")\n",
        "  for i in range(max_number):\n",
        "    print(\"[%2d]\" %data[i], end=\"\")\n",
        "  print()\n",
        "\n",
        "def create_table(num, index):\n",
        "  tmp = num % INDEXBOX\n",
        "  while True:\n",
        "    if index[tmp] == -1:\n",
        "      index[tmp] = num\n",
        "      break\n",
        "    else:\n",
        "      tmp = (tmp+1)%INDEXBOX\n",
        "#Main\n",
        "index = [None]*INDEXBOX\n",
        "data = [None]*MAXNUM\n",
        "\n",
        "print(\"原始陣列值:\")\n",
        "for i in range(MAXNUM):\n",
        "  data[i] = random.randint(1,20)\n",
        "for i in range(INDEXBOX):\n",
        "  index[i] = -1\n",
        "print_data(data,MAXNUM) \n",
        "\n",
        "print(\"雜湊內容表:\")\n",
        "for i in range(MAXNUM):\n",
        "  create_table(data[i], index)\n",
        "  print(\" %2d=>\" %data[i], end=\"\")\n",
        "  print_data(index, INDEXBOX)\n",
        "\n",
        "print(\"完成雜湊表:\")\n",
        "print_data(index, INDEXBOX)"
      ],
      "execution_count": 7,
      "outputs": [
        {
          "output_type": "stream",
          "text": [
            "原始陣列值:\n",
            "\t[11][18][ 8][19][ 5][20][20]\n",
            "雜湊內容表:\n",
            " 11=>\t[-1][11][-1][-1][-1][-1][-1][-1][-1][-1]\n",
            " 18=>\t[-1][11][-1][-1][-1][-1][-1][-1][18][-1]\n",
            "  8=>\t[-1][11][-1][-1][-1][-1][-1][-1][18][ 8]\n",
            " 19=>\t[19][11][-1][-1][-1][-1][-1][-1][18][ 8]\n",
            "  5=>\t[19][11][-1][-1][-1][ 5][-1][-1][18][ 8]\n",
            " 20=>\t[19][11][20][-1][-1][ 5][-1][-1][18][ 8]\n",
            " 20=>\t[19][11][20][20][-1][ 5][-1][-1][18][ 8]\n",
            "完成雜湊表:\n",
            "\t[19][11][20][20][-1][ 5][-1][-1][18][ 8]\n"
          ],
          "name": "stdout"
        }
      ]
    },
    {
      "cell_type": "code",
      "metadata": {
        "id": "pNdkMXTWEcrD",
        "outputId": "1753861e-4dd1-4b6e-ef67-86b78faed0bf",
        "colab": {
          "base_uri": "https://localhost:8080/",
          "height": 218
        }
      },
      "source": [
        "#再雜湊(rehashing)\n",
        "import random\n",
        "INDEXBOX=10 #雜湊表最大元素\n",
        "MAXNUM=7   #最大資料個數\n",
        "\n",
        "def print_data(data, max_number):\n",
        "  print(\"\\t\", end=\"\")\n",
        "  for i in range(max_number):\n",
        "    print(\"[%2d]\" %data[i], end=\"\")\n",
        "  print()\n",
        "\n",
        "def create_table(num, index):\n",
        "  tmp = num % INDEXBOX\n",
        "  n=0\n",
        "  while True:\n",
        "    if index[tmp] == -1:\n",
        "      index[tmp] = num\n",
        "      break\n",
        "    else:\n",
        "      n += 1\n",
        "      tmp = (tmp + 2*n) % INDEXBOX\n",
        "#Main\n",
        "index = [None]*INDEXBOX\n",
        "data = [None]*MAXNUM\n",
        "\n",
        "print(\"原始陣列值:\")\n",
        "for i in range(MAXNUM):\n",
        "  data[i] = random.randint(1,20)\n",
        "for i in range(INDEXBOX):\n",
        "  index[i] = -1\n",
        "print_data(data,MAXNUM) \n",
        "\n",
        "print(\"雜湊內容表:\")\n",
        "for i in range(MAXNUM):\n",
        "  create_table(data[i], index)\n",
        "  print(\" %2d=>\" %data[i], end=\"\")\n",
        "  print_data(index, INDEXBOX)\n",
        "\n",
        "print(\"完成雜湊表:\")\n",
        "print_data(index, INDEXBOX)"
      ],
      "execution_count": 16,
      "outputs": [
        {
          "output_type": "stream",
          "text": [
            "原始陣列值:\n",
            "\t[ 3][14][ 9][ 4][15][ 1][ 7]\n",
            "雜湊內容表:\n",
            "  3=>\t[-1][-1][-1][ 3][-1][-1][-1][-1][-1][-1]\n",
            " 14=>\t[-1][-1][-1][ 3][14][-1][-1][-1][-1][-1]\n",
            "  9=>\t[-1][-1][-1][ 3][14][-1][-1][-1][-1][ 9]\n",
            "  4=>\t[-1][-1][-1][ 3][14][-1][ 4][-1][-1][ 9]\n",
            " 15=>\t[-1][-1][-1][ 3][14][15][ 4][-1][-1][ 9]\n",
            "  1=>\t[-1][ 1][-1][ 3][14][15][ 4][-1][-1][ 9]\n",
            "  7=>\t[-1][ 1][-1][ 3][14][15][ 4][ 7][-1][ 9]\n",
            "完成雜湊表:\n",
            "\t[-1][ 1][-1][ 3][14][15][ 4][ 7][-1][ 9]\n"
          ],
          "name": "stdout"
        }
      ]
    },
    {
      "cell_type": "code",
      "metadata": {
        "id": "8IfdtUlyEMeH",
        "outputId": "f0e66324-9e3b-4761-ccf8-35bfb72883fe",
        "colab": {
          "base_uri": "https://localhost:8080/",
          "height": 218
        }
      },
      "source": [
        "#平方探測(quadratic probing)\n",
        "import random\n",
        "INDEXBOX=10 #雜湊表最大元素\n",
        "MAXNUM=7   #最大資料個數\n",
        "\n",
        "def print_data(data, max_number):\n",
        "  print(\"\\t\", end=\"\")\n",
        "  for i in range(max_number):\n",
        "    print(\"[%2d]\" %data[i], end=\"\")\n",
        "  print()\n",
        "\n",
        "def create_table(num, index):\n",
        "  tmp = num % INDEXBOX\n",
        "  collision = 0\n",
        "  while True:\n",
        "    if index[tmp] == -1:\n",
        "      index[tmp] = num\n",
        "      break\n",
        "    else:\n",
        "      collison += 1\n",
        "      tmp = (tmp + collision**collision) % INDEXBOX\n",
        "#Main\n",
        "index = [None]*INDEXBOX\n",
        "data = [None]*MAXNUM\n",
        "\n",
        "print(\"原始陣列值:\")\n",
        "for i in range(MAXNUM):\n",
        "  data[i] = random.randint(1,20)\n",
        "for i in range(INDEXBOX):\n",
        "  index[i] = -1\n",
        "print_data(data,MAXNUM) \n",
        "\n",
        "print(\"雜湊內容表:\")\n",
        "for i in range(MAXNUM):\n",
        "  create_table(data[i], index)\n",
        "  print(\" %2d=>\" %data[i], end=\"\")\n",
        "  print_data(index, INDEXBOX)\n",
        "\n",
        "print(\"完成雜湊表:\")\n",
        "print_data(index, INDEXBOX)"
      ],
      "execution_count": 17,
      "outputs": [
        {
          "output_type": "stream",
          "text": [
            "原始陣列值:\n",
            "\t[16][ 8][ 3][ 2][ 1][19][ 5]\n",
            "雜湊內容表:\n",
            " 16=>\t[-1][-1][-1][-1][-1][-1][16][-1][-1][-1]\n",
            "  8=>\t[-1][-1][-1][-1][-1][-1][16][-1][ 8][-1]\n",
            "  3=>\t[-1][-1][-1][ 3][-1][-1][16][-1][ 8][-1]\n",
            "  2=>\t[-1][-1][ 2][ 3][-1][-1][16][-1][ 8][-1]\n",
            "  1=>\t[-1][ 1][ 2][ 3][-1][-1][16][-1][ 8][-1]\n",
            " 19=>\t[-1][ 1][ 2][ 3][-1][-1][16][-1][ 8][19]\n",
            "  5=>\t[-1][ 1][ 2][ 3][-1][ 5][16][-1][ 8][19]\n",
            "完成雜湊表:\n",
            "\t[-1][ 1][ 2][ 3][-1][ 5][16][-1][ 8][19]\n"
          ],
          "name": "stdout"
        }
      ]
    }
  ]
}