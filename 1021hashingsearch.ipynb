{
  "nbformat": 4,
  "nbformat_minor": 0,
  "metadata": {
    "colab": {
      "name": "1021hashingsearch.ipynb",
      "provenance": [],
      "authorship_tag": "ABX9TyPo3AA4LNoQ6fH4j86cqxcj",
      "include_colab_link": true
    },
    "kernelspec": {
      "name": "python3",
      "display_name": "Python 3"
    }
  },
  "cells": [
    {
      "cell_type": "markdown",
      "metadata": {
        "id": "view-in-github",
        "colab_type": "text"
      },
      "source": [
        "<a href=\"https://colab.research.google.com/github/skull8944/algorithm/blob/master/1021hashingsearch.ipynb\" target=\"_parent\"><img src=\"https://colab.research.google.com/assets/colab-badge.svg\" alt=\"Open In Colab\"/></a>"
      ]
    },
    {
      "cell_type": "code",
      "metadata": {
        "id": "bMReyMFAA3_b",
        "outputId": "b4ac1507-fb0e-4383-aee1-e7702872ad9b",
        "colab": {
          "base_uri": "https://localhost:8080/",
          "height": 218
        }
      },
      "source": [
        "#線性探測法(linear probing)\n",
        "import random\n",
        "INDEXBOX=10 #雜湊表最大元素\n",
        "MAXNUM=7   #最大資料個數\n",
        "\n",
        "def print_data(data, max_number):\n",
        "  print(\"\\t\", end=\"\")\n",
        "  for i in range(max_number):\n",
        "    print(\"[%2d]\" %data[i], end=\"\")\n",
        "  print()\n",
        "\n",
        "def create_table(num, index):\n",
        "  tmp = num % INDEXBOX\n",
        "  while True:\n",
        "    if index[tmp] == -1:\n",
        "      index[tmp] = num\n",
        "      break\n",
        "    else:\n",
        "      tmp = (tmp+1)%INDEXBOX\n",
        "#Main\n",
        "index = [None]*INDEXBOX\n",
        "data = [None]*MAXNUM\n",
        "\n",
        "print(\"原始陣列值:\")\n",
        "for i in range(MAXNUM):\n",
        "  data[i] = random.randint(1,20)\n",
        "for i in range(INDEXBOX):\n",
        "  index[i] = -1\n",
        "print_data(data,MAXNUM) \n",
        "\n",
        "print(\"雜湊內容表:\")\n",
        "for i in range(MAXNUM):\n",
        "  create_table(data[i], index)\n",
        "  print(\" %2d=>\" %data[i], end=\"\")\n",
        "  print_data(index, INDEXBOX)\n",
        "\n",
        "print(\"完成雜湊表:\")\n",
        "print_data(index, INDEXBOX)"
      ],
      "execution_count": 7,
      "outputs": [
        {
          "output_type": "stream",
          "text": [
            "原始陣列值:\n",
            "\t[11][18][ 8][19][ 5][20][20]\n",
            "雜湊內容表:\n",
            " 11=>\t[-1][11][-1][-1][-1][-1][-1][-1][-1][-1]\n",
            " 18=>\t[-1][11][-1][-1][-1][-1][-1][-1][18][-1]\n",
            "  8=>\t[-1][11][-1][-1][-1][-1][-1][-1][18][ 8]\n",
            " 19=>\t[19][11][-1][-1][-1][-1][-1][-1][18][ 8]\n",
            "  5=>\t[19][11][-1][-1][-1][ 5][-1][-1][18][ 8]\n",
            " 20=>\t[19][11][20][-1][-1][ 5][-1][-1][18][ 8]\n",
            " 20=>\t[19][11][20][20][-1][ 5][-1][-1][18][ 8]\n",
            "完成雜湊表:\n",
            "\t[19][11][20][20][-1][ 5][-1][-1][18][ 8]\n"
          ],
          "name": "stdout"
        }
      ]
    },
    {
      "cell_type": "code",
      "metadata": {
        "id": "pNdkMXTWEcrD",
        "outputId": "03abb818-7ea4-4f3b-ade0-bd6bf8f30ba4",
        "colab": {
          "base_uri": "https://localhost:8080/",
          "height": 218
        }
      },
      "source": [
        "#再雜湊(rehashing)\n",
        "import random\n",
        "INDEXBOX=10 #雜湊表最大元素\n",
        "MAXNUM=7   #最大資料個數\n",
        "\n",
        "def print_data(data, max_number):\n",
        "  print(\"\\t\", end=\"\")\n",
        "  for i in range(max_number):\n",
        "    print(\"[%2d]\" %data[i], end=\"\")\n",
        "  print()\n",
        "\n",
        "def create_table(num, index):\n",
        "  tmp = num % INDEXBOX\n",
        "  n=1\n",
        "  while True:\n",
        "    if index[tmp] == -1:\n",
        "      index[tmp] = num\n",
        "      break\n",
        "    else:\n",
        "      tmp = (tmp + 2*n) % INDEXBOX\n",
        "#Main\n",
        "index = [None]*INDEXBOX\n",
        "data = [None]*MAXNUM\n",
        "\n",
        "print(\"原始陣列值:\")\n",
        "for i in range(MAXNUM):\n",
        "  data[i] = random.randint(1,20)\n",
        "for i in range(INDEXBOX):\n",
        "  index[i] = -1\n",
        "print_data(data,MAXNUM) \n",
        "\n",
        "print(\"雜湊內容表:\")\n",
        "for i in range(MAXNUM):\n",
        "  create_table(data[i], index)\n",
        "  print(\" %2d=>\" %data[i], end=\"\")\n",
        "  print_data(index, INDEXBOX)\n",
        "\n",
        "print(\"完成雜湊表:\")\n",
        "print_data(index, INDEXBOX)"
      ],
      "execution_count": 15,
      "outputs": [
        {
          "output_type": "stream",
          "text": [
            "原始陣列值:\n",
            "\t[16][ 7][18][15][11][17][ 4]\n",
            "雜湊內容表:\n",
            " 16=>\t[-1][-1][-1][-1][-1][-1][16][-1][-1][-1]\n",
            "  7=>\t[-1][-1][-1][-1][-1][-1][16][ 7][-1][-1]\n",
            " 18=>\t[-1][-1][-1][-1][-1][-1][16][ 7][18][-1]\n",
            " 15=>\t[-1][-1][-1][-1][-1][15][16][ 7][18][-1]\n",
            " 11=>\t[-1][11][-1][-1][-1][15][16][ 7][18][-1]\n",
            " 17=>\t[-1][11][-1][-1][-1][15][16][ 7][18][17]\n",
            "  4=>\t[-1][11][-1][-1][ 4][15][16][ 7][18][17]\n",
            "完成雜湊表:\n",
            "\t[-1][11][-1][-1][ 4][15][16][ 7][18][17]\n"
          ],
          "name": "stdout"
        }
      ]
    },
    {
      "cell_type": "code",
      "metadata": {
        "id": "8IfdtUlyEMeH",
        "outputId": "2f816a4d-897f-49e1-9cbd-596665f50da4",
        "colab": {
          "base_uri": "https://localhost:8080/",
          "height": 218
        }
      },
      "source": [
        "#平方探測(quadratic probing)\n",
        "import random\n",
        "INDEXBOX=10 #雜湊表最大元素\n",
        "MAXNUM=7   #最大資料個數\n",
        "\n",
        "def print_data(data, max_number):\n",
        "  print(\"\\t\", end=\"\")\n",
        "  for i in range(max_number):\n",
        "    print(\"[%2d]\" %data[i], end=\"\")\n",
        "  print()\n",
        "\n",
        "def create_table(num, index):\n",
        "  tmp = num % INDEXBOX\n",
        "  collision = 0\n",
        "  while True:\n",
        "    if index[tmp] == -1:\n",
        "      index[tmp] = num\n",
        "      break\n",
        "    else:\n",
        "      collison = collision + 1\n",
        "      tmp = (tmp + collision**collision) % INDEXBOX\n",
        "#Main\n",
        "index = [None]*INDEXBOX\n",
        "data = [None]*MAXNUM\n",
        "\n",
        "print(\"原始陣列值:\")\n",
        "for i in range(MAXNUM):\n",
        "  data[i] = random.randint(1,20)\n",
        "for i in range(INDEXBOX):\n",
        "  index[i] = -1\n",
        "print_data(data,MAXNUM) \n",
        "\n",
        "print(\"雜湊內容表:\")\n",
        "for i in range(MAXNUM):\n",
        "  create_table(data[i], index)\n",
        "  print(\" %2d=>\" %data[i], end=\"\")\n",
        "  print_data(index, INDEXBOX)\n",
        "\n",
        "print(\"完成雜湊表:\")\n",
        "print_data(index, INDEXBOX)"
      ],
      "execution_count": 12,
      "outputs": [
        {
          "output_type": "stream",
          "text": [
            "原始陣列值:\n",
            "\t[ 2][18][15][10][ 8][14][ 6]\n",
            "雜湊內容表:\n",
            "  2=>\t[-1][-1][ 2][-1][-1][-1][-1][-1][-1][-1]\n",
            " 18=>\t[-1][-1][ 2][-1][-1][-1][-1][-1][18][-1]\n",
            " 15=>\t[-1][-1][ 2][-1][-1][15][-1][-1][18][-1]\n",
            " 10=>\t[10][-1][ 2][-1][-1][15][-1][-1][18][-1]\n",
            "  8=>\t[10][-1][ 2][-1][-1][15][-1][-1][18][ 8]\n",
            " 14=>\t[10][-1][ 2][-1][14][15][-1][-1][18][ 8]\n",
            "  6=>\t[10][-1][ 2][-1][14][15][ 6][-1][18][ 8]\n",
            "完成雜湊表:\n",
            "\t[10][-1][ 2][-1][14][15][ 6][-1][18][ 8]\n"
          ],
          "name": "stdout"
        }
      ]
    }
  ]
}