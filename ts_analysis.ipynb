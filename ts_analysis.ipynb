{
  "nbformat": 4,
  "nbformat_minor": 0,
  "metadata": {
    "colab": {
      "name": "ts_analysis.ipynb",
      "provenance": [],
      "collapsed_sections": [],
      "authorship_tag": "ABX9TyNtA41i1hRkTzxLD2N82D9r",
      "include_colab_link": true
    },
    "kernelspec": {
      "name": "python3",
      "display_name": "Python 3"
    }
  },
  "cells": [
    {
      "cell_type": "markdown",
      "metadata": {
        "id": "view-in-github",
        "colab_type": "text"
      },
      "source": [
        "<a href=\"https://colab.research.google.com/github/skull8944/algorithm/blob/master/ts_analysis.ipynb\" target=\"_parent\"><img src=\"https://colab.research.google.com/assets/colab-badge.svg\" alt=\"Open In Colab\"/></a>"
      ]
    },
    {
      "cell_type": "code",
      "metadata": {
        "id": "k0rQ0JCY21tI",
        "outputId": "66ad0b21-32c1-4c1f-c0f4-e9ee1eebc68c",
        "colab": {
          "base_uri": "https://localhost:8080/"
        }
      },
      "source": [
        "#判斷1到10數字是否為質數，質數為1不是則0\n",
        "prime = {2:1, 3:1, 4:0, 5:1, 6:0, 7:1, 8:0, 9:0, 10:0}\n",
        "def Time(number):       #時間換空間\n",
        "  if prime[number] == 0: #查詢陣列中的數字是否為質數\n",
        "    return False     \n",
        "  else:\n",
        "    return True\n",
        "def Space(number):       #空間換時間\n",
        "  for i in range(2,number): #設i設為小於自己輸入的所有整數\n",
        "    if number % i == 0: #如果number除以i有餘數，則不為質數\n",
        "      return False\n",
        "  return True         #如果number除以所有i沒有餘數，則為質數\n",
        "\n",
        "while(True): \n",
        "  n = input('請輸入一個2-10的正整數:') #請使用者輸入數字\n",
        "  if n.isdigit():            #判斷n是否由數字組成\n",
        "    n = int(n)            #把n轉換成int\n",
        "    if n<=10 and n>=2:        #判斷n再回圈內\n",
        "      break              #n在範圍內跳出while迴圈\n",
        "\n",
        "print('時間換空間:')\n",
        "if Time(n):\n",
        "    print(n,'是質數')\n",
        "else:\n",
        "    print(n,'不是質數')\n",
        "print('空間換時間:')\n",
        "if Space(n):\n",
        "    print(n,'是質數')\n",
        "else:\n",
        "    print(n,'不是質數')\n"
      ],
      "execution_count": 29,
      "outputs": [
        {
          "output_type": "stream",
          "text": [
            "請輸入一個2-10的正整數:1\n",
            "請輸入一個2-10的正整數:a\n",
            "請輸入一個2-10的正整數:1.5\n",
            "請輸入一個2-10的正整數:2\n",
            "時間換空間:\n",
            "2 是質數\n",
            "空間換時間:\n",
            "2 是質數\n"
          ],
          "name": "stdout"
        }
      ]
    },
    {
      "cell_type": "code",
      "metadata": {
        "id": "zy9ygHzIA6YI"
      },
      "source": [
        ""
      ],
      "execution_count": null,
      "outputs": []
    }
  ]
}