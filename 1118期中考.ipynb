{
  "nbformat": 4,
  "nbformat_minor": 0,
  "metadata": {
    "colab": {
      "name": "1118期中考.ipynb",
      "provenance": [],
      "collapsed_sections": [],
      "authorship_tag": "ABX9TyNqCWEAGLO9cCEk/HLrrBN1",
      "include_colab_link": true
    },
    "kernelspec": {
      "name": "python3",
      "display_name": "Python 3"
    }
  },
  "cells": [
    {
      "cell_type": "markdown",
      "metadata": {
        "id": "view-in-github",
        "colab_type": "text"
      },
      "source": [
        "<a href=\"https://colab.research.google.com/github/skull8944/algorithm/blob/master/1118%E6%9C%9F%E4%B8%AD%E8%80%83.ipynb\" target=\"_parent\"><img src=\"https://colab.research.google.com/assets/colab-badge.svg\" alt=\"Open In Colab\"/></a>"
      ]
    },
    {
      "cell_type": "code",
      "metadata": {
        "colab": {
          "base_uri": "https://localhost:8080/"
        },
        "id": "rKpYp-3uqZK6",
        "outputId": "d6f6e9ab-2be9-4519-80eb-eb07305726e6"
      },
      "source": [
        "#Selection Sort(大到小)\n",
        "#原理:選最小的放到前面\n",
        "def SelectionSort(mylist):\n",
        "  n = len(mylist)\n",
        "  for i in range(n):\n",
        "    max = mylist[(i)] #把第i個數先設為max\n",
        "    for j in range(i, n): #從i開始到n-1\n",
        "      if mylist[j] > max:  #跟max相比\n",
        "        max = mylist[j]  #如果>max就把它變成max\n",
        "        mylist[i], mylist[j] = mylist[j], mylist[i] #把找到的max第i個互換位置\n",
        "    print('第',i+1,'次排序: ', mylist)#列印資料\n",
        "import random\n",
        "list8 = [random.randint(0, 100) for _ in range(8)] #產生8個亂數\n",
        "print('原始資料為:',list8)\n",
        "SelectionSort(list8)"
      ],
      "execution_count": null,
      "outputs": [
        {
          "output_type": "stream",
          "text": [
            "原始資料為: [16, 75, 17, 33, 59, 95, 35, 26]\n",
            "第 1 次排序:  [95, 16, 17, 33, 59, 75, 35, 26]\n",
            "第 2 次排序:  [95, 75, 16, 17, 33, 59, 35, 26]\n",
            "第 3 次排序:  [95, 75, 59, 16, 17, 33, 35, 26]\n",
            "第 4 次排序:  [95, 75, 59, 35, 16, 17, 33, 26]\n",
            "第 5 次排序:  [95, 75, 59, 35, 33, 16, 17, 26]\n",
            "第 6 次排序:  [95, 75, 59, 35, 33, 26, 16, 17]\n",
            "第 7 次排序:  [95, 75, 59, 35, 33, 26, 17, 16]\n",
            "第 8 次排序:  [95, 75, 59, 35, 33, 26, 17, 16]\n"
          ],
          "name": "stdout"
        }
      ]
    },
    {
      "cell_type": "code",
      "metadata": {
        "colab": {
          "base_uri": "https://localhost:8080/"
        },
        "id": "5IYTN3SkxTYl",
        "outputId": "b5342f2c-9d78-461e-c97f-6e5aab3a7b05"
      },
      "source": [
        "#Insertion Sort(小到大)\n",
        "#原理:把資料一一插入排好的\n",
        "def SelectionSort(mylist):\n",
        "  n = len(mylist)\n",
        "  for i in range(0,n):\n",
        "    key = mylist[i] #把key設為list裡面的第i個數，用來向下檢查大小順序\n",
        "    pre = i-1    #把pre設為now的前1個數的索引值\n",
        "    while pre>=0 and key < mylist[pre]: #pre在0的位置以後就和讓key相比是否比自己小\n",
        "      #print(key,'<',mylist[pre]) #檢查用\n",
        "      mylist[pre+1], mylist[pre] = mylist[pre], mylist[pre+1] #pre值只要>key值就交換，大的往後小的往前的意思\n",
        "      pre -= 1 #pre-1向下檢查\n",
        "    print('第',i+1,'次排序: ', mylist)#列印資料\n",
        "    print(' '*14,'-- .'*(i+1)) #顯示哪裡已經做完排序\n",
        "import random\n",
        "list8 = [random.randint(10, 99) for _ in range(8)] #產生8個亂數\n",
        "print('原始資料為:',list8)\n",
        "SelectionSort(list8)\n"
      ],
      "execution_count": 98,
      "outputs": [
        {
          "output_type": "stream",
          "text": [
            "原始資料為: [31, 86, 66, 42, 76, 23, 10, 15]\n",
            "第 1 次排序:  [31, 86, 66, 42, 76, 23, 10, 15]\n",
            "               -- .\n",
            "第 2 次排序:  [31, 86, 66, 42, 76, 23, 10, 15]\n",
            "               -- .-- .\n",
            "第 3 次排序:  [31, 66, 86, 42, 76, 23, 10, 15]\n",
            "               -- .-- .-- .\n",
            "第 4 次排序:  [31, 42, 66, 86, 76, 23, 10, 15]\n",
            "               -- .-- .-- .-- .\n",
            "第 5 次排序:  [31, 42, 66, 76, 86, 23, 10, 15]\n",
            "               -- .-- .-- .-- .-- .\n",
            "第 6 次排序:  [23, 31, 42, 66, 76, 86, 10, 15]\n",
            "               -- .-- .-- .-- .-- .-- .\n",
            "第 7 次排序:  [10, 23, 31, 42, 66, 76, 86, 15]\n",
            "               -- .-- .-- .-- .-- .-- .-- .\n",
            "第 8 次排序:  [10, 15, 23, 31, 42, 66, 76, 86]\n",
            "               -- .-- .-- .-- .-- .-- .-- .-- .\n"
          ],
          "name": "stdout"
        }
      ]
    }
  ]
}