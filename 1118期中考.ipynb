{
  "nbformat": 4,
  "nbformat_minor": 0,
  "metadata": {
    "colab": {
      "name": "1118期中考.ipynb",
      "provenance": [],
      "collapsed_sections": [],
      "authorship_tag": "ABX9TyNB8PX5lITovjy1INE9Y9JF",
      "include_colab_link": true
    },
    "kernelspec": {
      "name": "python3",
      "display_name": "Python 3"
    }
  },
  "cells": [
    {
      "cell_type": "markdown",
      "metadata": {
        "id": "view-in-github",
        "colab_type": "text"
      },
      "source": [
        "<a href=\"https://colab.research.google.com/github/skull8944/algorithm/blob/master/1118%E6%9C%9F%E4%B8%AD%E8%80%83.ipynb\" target=\"_parent\"><img src=\"https://colab.research.google.com/assets/colab-badge.svg\" alt=\"Open In Colab\"/></a>"
      ]
    },
    {
      "cell_type": "code",
      "metadata": {
        "colab": {
          "base_uri": "https://localhost:8080/"
        },
        "id": "rKpYp-3uqZK6",
        "outputId": "3b753615-6ded-4ff4-b849-32c40e6672e1"
      },
      "source": [
        "#Selection Sort(大到小)\n",
        "#原理:選最大的'互換'到前面\n",
        "def SelectionSort(mylist):\n",
        "  n = len(mylist)\n",
        "  for i in range(n):\n",
        "    max = mylist[i] #把第i個數先設為max\n",
        "    for j in range(i, n): #從i開始到n-1\n",
        "      if mylist[j] > max:  #跟max相比\n",
        "        max = mylist[j]  #如果>max就把它變成max\n",
        "        mylist[i], mylist[j] = mylist[j], mylist[i] #把找到的max第i個互換位置\n",
        "    print('第',i+1,'次排序: ', mylist)#列印資料\n",
        "    print(' '*14,'-- .'*(i+1)) #顯示哪裡已經做完排序\n",
        "import random\n",
        "list8 = [random.randint(10, 99) for _ in range(8)] #產生8個亂數\n",
        "print('原始資料為:',list8,'\\n')\n",
        "SelectionSort(list8)"
      ],
      "execution_count": 16,
      "outputs": [
        {
          "output_type": "stream",
          "text": [
            "原始資料為: [26, 14, 34, 87, 85, 68, 58, 73] \n",
            "\n",
            "第 1 次排序:  [87, 14, 26, 34, 85, 68, 58, 73]\n",
            "               -- .\n",
            "第 2 次排序:  [87, 85, 14, 26, 34, 68, 58, 73]\n",
            "               -- .-- .\n",
            "第 3 次排序:  [87, 85, 73, 14, 26, 34, 58, 68]\n",
            "               -- .-- .-- .\n",
            "第 4 次排序:  [87, 85, 73, 68, 14, 26, 34, 58]\n",
            "               -- .-- .-- .-- .\n",
            "第 5 次排序:  [87, 85, 73, 68, 58, 14, 26, 34]\n",
            "               -- .-- .-- .-- .-- .\n",
            "第 6 次排序:  [87, 85, 73, 68, 58, 34, 14, 26]\n",
            "               -- .-- .-- .-- .-- .-- .\n",
            "第 7 次排序:  [87, 85, 73, 68, 58, 34, 26, 14]\n",
            "               -- .-- .-- .-- .-- .-- .-- .\n",
            "第 8 次排序:  [87, 85, 73, 68, 58, 34, 26, 14]\n",
            "               -- .-- .-- .-- .-- .-- .-- .-- .\n"
          ],
          "name": "stdout"
        }
      ]
    },
    {
      "cell_type": "code",
      "metadata": {
        "colab": {
          "base_uri": "https://localhost:8080/"
        },
        "id": "RfRufwzKTMfN",
        "outputId": "e7e63a08-429c-4f7e-ea60-f6ee52d6f8f9"
      },
      "source": [
        "#Insertion Sort(小到大)\n",
        "#原理:把資料一一插入已排好的\n",
        "def SelectionSort(mylist):\n",
        "  n = len(mylist)\n",
        "  for i in range(0,n):\n",
        "    j = i   #設j作為比較的位置，用i會影響迴圈\n",
        "    while j-1>=0 and mylist[j] < mylist[j-1]: #當j前面有數且j的數>(j-1)的數\n",
        "      #print(mylist[j],'<',mylist[j-1]) #檢查用\n",
        "      mylist[j], mylist[j-1] = mylist[j-1], mylist[j] #[j-1]>[j]就交換\n",
        "      j -= 1 #j=j-1向下檢查大小\n",
        "    print('第',i+1,'次排序: ', mylist)#列印資料\n",
        "    print(' '*14,'-- .'*(i+1)) #顯示哪裡已經做完排序\n",
        "import random\n",
        "list8 = [random.randint(10, 99) for _ in range(8)] #產生8個亂數\n",
        "print('原始資料為:',list8,'\\n')\n",
        "SelectionSort(list8)"
      ],
      "execution_count": 15,
      "outputs": [
        {
          "output_type": "stream",
          "text": [
            "原始資料為: [39, 84, 88, 62, 92, 24, 87, 72] \n",
            "\n",
            "第 1 次排序:  [39, 84, 88, 62, 92, 24, 87, 72]\n",
            "               -- .\n",
            "第 2 次排序:  [39, 84, 88, 62, 92, 24, 87, 72]\n",
            "               -- .-- .\n",
            "第 3 次排序:  [39, 84, 88, 62, 92, 24, 87, 72]\n",
            "               -- .-- .-- .\n",
            "第 4 次排序:  [39, 62, 84, 88, 92, 24, 87, 72]\n",
            "               -- .-- .-- .-- .\n",
            "第 5 次排序:  [39, 62, 84, 88, 92, 24, 87, 72]\n",
            "               -- .-- .-- .-- .-- .\n",
            "第 6 次排序:  [24, 39, 62, 84, 88, 92, 87, 72]\n",
            "               -- .-- .-- .-- .-- .-- .\n",
            "第 7 次排序:  [24, 39, 62, 84, 87, 88, 92, 72]\n",
            "               -- .-- .-- .-- .-- .-- .-- .\n",
            "第 8 次排序:  [24, 39, 62, 72, 84, 87, 88, 92]\n",
            "               -- .-- .-- .-- .-- .-- .-- .-- .\n"
          ],
          "name": "stdout"
        }
      ]
    }
  ]
}