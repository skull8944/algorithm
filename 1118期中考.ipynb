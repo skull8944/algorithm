{
  "nbformat": 4,
  "nbformat_minor": 0,
  "metadata": {
    "colab": {
      "name": "1118期中考.ipynb",
      "provenance": [],
      "collapsed_sections": [],
      "authorship_tag": "ABX9TyPALoqsl7JblVZKg45UH6gs",
      "include_colab_link": true
    },
    "kernelspec": {
      "name": "python3",
      "display_name": "Python 3"
    }
  },
  "cells": [
    {
      "cell_type": "markdown",
      "metadata": {
        "id": "view-in-github",
        "colab_type": "text"
      },
      "source": [
        "<a href=\"https://colab.research.google.com/github/skull8944/algorithm/blob/master/1118%E6%9C%9F%E4%B8%AD%E8%80%83.ipynb\" target=\"_parent\"><img src=\"https://colab.research.google.com/assets/colab-badge.svg\" alt=\"Open In Colab\"/></a>"
      ]
    },
    {
      "cell_type": "code",
      "metadata": {
        "colab": {
          "base_uri": "https://localhost:8080/"
        },
        "id": "rKpYp-3uqZK6",
        "outputId": "bdab37f4-6dcf-40e3-ba7c-5b9cde3ee0ab"
      },
      "source": [
        "#Selection Sort(大到小)\n",
        "#原理:選最小的互換到前面\n",
        "def SelectionSort(mylist):\n",
        "  n = len(mylist)\n",
        "  for i in range(n):\n",
        "    max = mylist[i] #把第i個數先設為max\n",
        "    for j in range(i, n): #從i開始到n-1\n",
        "      if mylist[j] > max:  #跟max相比\n",
        "        max = mylist[j]  #如果>max就把它變成max\n",
        "        mylist[i], mylist[j] = mylist[j], mylist[i] #把找到的max第i個互換位置\n",
        "    print('第',i+1,'次排序: ', mylist)#列印資料\n",
        "import random\n",
        "list8 = [random.randint(0, 100) for _ in range(8)] #產生8個亂數\n",
        "print('原始資料為:',list8)\n",
        "SelectionSort(list8)"
      ],
      "execution_count": null,
      "outputs": [
        {
          "output_type": "stream",
          "text": [
            "原始資料為: [51, 66, 72, 35, 72, 28, 42, 21]\n",
            "第 1 次排序:  [72, 51, 66, 35, 72, 28, 42, 21]\n",
            "第 2 次排序:  [72, 72, 51, 35, 66, 28, 42, 21]\n",
            "第 3 次排序:  [72, 72, 66, 35, 51, 28, 42, 21]\n",
            "第 4 次排序:  [72, 72, 66, 51, 35, 28, 42, 21]\n",
            "第 5 次排序:  [72, 72, 66, 51, 42, 28, 35, 21]\n",
            "第 6 次排序:  [72, 72, 66, 51, 42, 35, 28, 21]\n",
            "第 7 次排序:  [72, 72, 66, 51, 42, 35, 28, 21]\n",
            "第 8 次排序:  [72, 72, 66, 51, 42, 35, 28, 21]\n"
          ],
          "name": "stdout"
        }
      ]
    },
    {
      "cell_type": "code",
      "metadata": {
        "colab": {
          "base_uri": "https://localhost:8080/"
        },
        "id": "RfRufwzKTMfN",
        "outputId": "dac59666-4864-4411-f838-95801f055945"
      },
      "source": [
        "#Insertion Sort(小到大)\n",
        "#原理:把資料一一插入已排好的\n",
        "def SelectionSort(mylist):\n",
        "  n = len(mylist)\n",
        "  for i in range(0,n):\n",
        "    j = i   #設j用來比較的位置，用i會影響迴圈\n",
        "    while j-1>=0 and mylist[j] < mylist[j-1]: #當j前面有數且j的數>(j-1)的數\n",
        "      #print(mylist[j],'<',mylist[j-1]) #檢查用\n",
        "      mylist[j], mylist[j-1] = mylist[j-1], mylist[j] #[j-1]>[j]就交換\n",
        "      j -= 1 #j=j-1向下檢查大小\n",
        "    print('第',i+1,'次排序: ', mylist)#列印資料\n",
        "    print(' '*14,'-- .'*(i+1)) #顯示哪裡已經做完排序\n",
        "import random\n",
        "list8 = [random.randint(10, 99) for _ in range(8)] #產生8個亂數\n",
        "print('原始資料為:',list8)\n",
        "SelectionSort(list8)"
      ],
      "execution_count": 8,
      "outputs": [
        {
          "output_type": "stream",
          "text": [
            "原始資料為: [13, 59, 63, 85, 29, 25, 94, 45]\n",
            "第 1 次排序:  [13, 59, 63, 85, 29, 25, 94, 45]\n",
            "               -- .\n",
            "第 2 次排序:  [13, 59, 63, 85, 29, 25, 94, 45]\n",
            "               -- .-- .\n",
            "第 3 次排序:  [13, 59, 63, 85, 29, 25, 94, 45]\n",
            "               -- .-- .-- .\n",
            "第 4 次排序:  [13, 59, 63, 85, 29, 25, 94, 45]\n",
            "               -- .-- .-- .-- .\n",
            "29 < 85\n",
            "29 < 63\n",
            "29 < 59\n",
            "第 5 次排序:  [13, 29, 59, 63, 85, 25, 94, 45]\n",
            "               -- .-- .-- .-- .-- .\n",
            "25 < 85\n",
            "25 < 63\n",
            "25 < 59\n",
            "25 < 29\n",
            "第 6 次排序:  [13, 25, 29, 59, 63, 85, 94, 45]\n",
            "               -- .-- .-- .-- .-- .-- .\n",
            "第 7 次排序:  [13, 25, 29, 59, 63, 85, 94, 45]\n",
            "               -- .-- .-- .-- .-- .-- .-- .\n",
            "45 < 94\n",
            "45 < 85\n",
            "45 < 63\n",
            "45 < 59\n",
            "第 8 次排序:  [13, 25, 29, 45, 59, 63, 85, 94]\n",
            "               -- .-- .-- .-- .-- .-- .-- .-- .\n"
          ],
          "name": "stdout"
        }
      ]
    }
  ]
}