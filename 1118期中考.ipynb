{
  "nbformat": 4,
  "nbformat_minor": 0,
  "metadata": {
    "colab": {
      "name": "1118期中考.ipynb",
      "provenance": [],
      "collapsed_sections": [],
      "authorship_tag": "ABX9TyPk/IPpqX81ACdDLvImiCSi",
      "include_colab_link": true
    },
    "kernelspec": {
      "name": "python3",
      "display_name": "Python 3"
    }
  },
  "cells": [
    {
      "cell_type": "markdown",
      "metadata": {
        "id": "view-in-github",
        "colab_type": "text"
      },
      "source": [
        "<a href=\"https://colab.research.google.com/github/skull8944/algorithm/blob/master/1118%E6%9C%9F%E4%B8%AD%E8%80%83.ipynb\" target=\"_parent\"><img src=\"https://colab.research.google.com/assets/colab-badge.svg\" alt=\"Open In Colab\"/></a>"
      ]
    },
    {
      "cell_type": "code",
      "metadata": {
        "colab": {
          "base_uri": "https://localhost:8080/"
        },
        "id": "rKpYp-3uqZK6",
        "outputId": "bdab37f4-6dcf-40e3-ba7c-5b9cde3ee0ab"
      },
      "source": [
        "#Selection Sort(大到小)\n",
        "#原理:選最小的互換到前面\n",
        "def SelectionSort(mylist):\n",
        "  n = len(mylist)\n",
        "  for i in range(n):\n",
        "    max = mylist[i] #把第i個數先設為max\n",
        "    for j in range(i, n): #從i開始到n-1\n",
        "      if mylist[j] > max:  #跟max相比\n",
        "        max = mylist[j]  #如果>max就把它變成max\n",
        "        mylist[i], mylist[j] = mylist[j], mylist[i] #把找到的max第i個互換位置\n",
        "    print('第',i+1,'次排序: ', mylist)#列印資料\n",
        "import random\n",
        "list8 = [random.randint(0, 100) for _ in range(8)] #產生8個亂數\n",
        "print('原始資料為:',list8)\n",
        "SelectionSort(list8)"
      ],
      "execution_count": 104,
      "outputs": [
        {
          "output_type": "stream",
          "text": [
            "原始資料為: [51, 66, 72, 35, 72, 28, 42, 21]\n",
            "第 1 次排序:  [72, 51, 66, 35, 72, 28, 42, 21]\n",
            "第 2 次排序:  [72, 72, 51, 35, 66, 28, 42, 21]\n",
            "第 3 次排序:  [72, 72, 66, 35, 51, 28, 42, 21]\n",
            "第 4 次排序:  [72, 72, 66, 51, 35, 28, 42, 21]\n",
            "第 5 次排序:  [72, 72, 66, 51, 42, 28, 35, 21]\n",
            "第 6 次排序:  [72, 72, 66, 51, 42, 35, 28, 21]\n",
            "第 7 次排序:  [72, 72, 66, 51, 42, 35, 28, 21]\n",
            "第 8 次排序:  [72, 72, 66, 51, 42, 35, 28, 21]\n"
          ],
          "name": "stdout"
        }
      ]
    },
    {
      "cell_type": "code",
      "metadata": {
        "colab": {
          "base_uri": "https://localhost:8080/"
        },
        "id": "5IYTN3SkxTYl",
        "outputId": "b5342f2c-9d78-461e-c97f-6e5aab3a7b05"
      },
      "source": [
        "#Insertion Sort(小到大)\n",
        "#原理:把資料一一插入排好的\n",
        "def SelectionSort(mylist):\n",
        "  n = len(mylist)\n",
        "  for i in range(0,n):\n",
        "    key = mylist[i] #把key設為list裡面的第i個數，用來向下檢查大小順序\n",
        "    pre = i-1    #把pre設為now的前1個數的索引值\n",
        "    while pre>=0 and key < mylist[pre]: #pre在0的位置以後就和讓key相比是否比自己小\n",
        "      #print(key,'<',mylist[pre]) #檢查用\n",
        "      mylist[pre+1], mylist[pre] = mylist[pre], mylist[pre+1] #pre值只要>key值就交換，大的往後小的往前的意思\n",
        "      pre -= 1 #pre-1向下檢查\n",
        "    print('第',i+1,'次排序: ', mylist)#列印資料\n",
        "    print(' '*14,'-- .'*(i+1)) #顯示哪裡已經做完排序\n",
        "import random\n",
        "list8 = [random.randint(10, 99) for _ in range(8)] #產生8個亂數\n",
        "print('原始資料為:',list8)\n",
        "SelectionSort(list8)\n"
      ],
      "execution_count": null,
      "outputs": [
        {
          "output_type": "stream",
          "text": [
            "原始資料為: [31, 86, 66, 42, 76, 23, 10, 15]\n",
            "第 1 次排序:  [31, 86, 66, 42, 76, 23, 10, 15]\n",
            "               -- .\n",
            "第 2 次排序:  [31, 86, 66, 42, 76, 23, 10, 15]\n",
            "               -- .-- .\n",
            "第 3 次排序:  [31, 66, 86, 42, 76, 23, 10, 15]\n",
            "               -- .-- .-- .\n",
            "第 4 次排序:  [31, 42, 66, 86, 76, 23, 10, 15]\n",
            "               -- .-- .-- .-- .\n",
            "第 5 次排序:  [31, 42, 66, 76, 86, 23, 10, 15]\n",
            "               -- .-- .-- .-- .-- .\n",
            "第 6 次排序:  [23, 31, 42, 66, 76, 86, 10, 15]\n",
            "               -- .-- .-- .-- .-- .-- .\n",
            "第 7 次排序:  [10, 23, 31, 42, 66, 76, 86, 15]\n",
            "               -- .-- .-- .-- .-- .-- .-- .\n",
            "第 8 次排序:  [10, 15, 23, 31, 42, 66, 76, 86]\n",
            "               -- .-- .-- .-- .-- .-- .-- .-- .\n"
          ],
          "name": "stdout"
        }
      ]
    }
  ]
}