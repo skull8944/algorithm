{
  "nbformat": 4,
  "nbformat_minor": 0,
  "metadata": {
    "colab": {
      "name": "1104DaVinciCode.ipynb",
      "provenance": [],
      "collapsed_sections": [],
      "authorship_tag": "ABX9TyP2/e0at1gYG78moXiaYwY1",
      "include_colab_link": true
    },
    "kernelspec": {
      "name": "python3",
      "display_name": "Python 3"
    }
  },
  "cells": [
    {
      "cell_type": "markdown",
      "metadata": {
        "id": "view-in-github",
        "colab_type": "text"
      },
      "source": [
        "<a href=\"https://colab.research.google.com/github/skull8944/algorithm/blob/master/1104DaVinciCode.ipynb\" target=\"_parent\"><img src=\"https://colab.research.google.com/assets/colab-badge.svg\" alt=\"Open In Colab\"/></a>"
      ]
    },
    {
      "cell_type": "code",
      "metadata": {
        "id": "kwXmJdnKECQ-",
        "outputId": "5646f6db-a0ea-498c-ec18-aae10c0a9918",
        "colab": {
          "base_uri": "https://localhost:8080/"
        }
      },
      "source": [
        "import random\n",
        "code = random.randint(1,100)\n",
        "print(code)\n",
        "bottom = 1\n",
        "top = 100\n",
        "while(True):\n",
        "  a = int(input(\"請輸入一個數字\"))\n",
        "  if(a>code):\n",
        "    top = a\n",
        "    print(\"密碼介於\",bottom,\"到\",top)\n",
        "  elif(a<code):\n",
        "    bottom = a\n",
        "    print(\"密碼介於\",bottom,\"到\",top)\n",
        "  else:\n",
        "    print(\"恭喜答對，密碼為\",code)\n",
        "    break\n"
      ],
      "execution_count": 11,
      "outputs": [
        {
          "output_type": "stream",
          "text": [
            "11\n",
            "請輸入一個數字1\n",
            "密碼介於 1 到 100\n",
            "請輸入一個數字20\n",
            "密碼介於 1 到 20\n",
            "請輸入一個數字5\n",
            "密碼介於 5 到 20\n",
            "請輸入一個數字11\n",
            "恭喜答對，密碼為 11\n"
          ],
          "name": "stdout"
        }
      ]
    }
  ]
}