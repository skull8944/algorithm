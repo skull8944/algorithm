{
  "nbformat": 4,
  "nbformat_minor": 0,
  "metadata": {
    "colab": {
      "name": "1104DaVinciCode.ipynb",
      "provenance": [],
      "collapsed_sections": [],
      "authorship_tag": "ABX9TyMSxjt8UqZXUEYkR9dZFEwJ",
      "include_colab_link": true
    },
    "kernelspec": {
      "name": "python3",
      "display_name": "Python 3"
    }
  },
  "cells": [
    {
      "cell_type": "markdown",
      "metadata": {
        "id": "view-in-github",
        "colab_type": "text"
      },
      "source": [
        "<a href=\"https://colab.research.google.com/github/skull8944/algorithm/blob/master/1104DaVinciCode.ipynb\" target=\"_parent\"><img src=\"https://colab.research.google.com/assets/colab-badge.svg\" alt=\"Open In Colab\"/></a>"
      ]
    },
    {
      "cell_type": "code",
      "metadata": {
        "id": "kwXmJdnKECQ-",
        "outputId": "46ce9852-d896-45e0-aaac-159eb6a2a6ae",
        "colab": {
          "base_uri": "https://localhost:8080/"
        }
      },
      "source": [
        "import random\n",
        "code = random.randint(1,100)\n",
        "bottom = 1\n",
        "top = 100\n",
        "while(True):\n",
        "  a = int(input())\n",
        "  if(a>top or a<bottom):\n",
        "    print(\"請輸入範圍內的數字\")\n",
        "    print(\"密碼介於\",bottom,\"到\",top)\n",
        "  elif(a>code):\n",
        "    top = a\n",
        "    print(\"密碼介於\",bottom,\"到\",top)\n",
        "  elif(a<code):\n",
        "    bottom = a\n",
        "    print(\"密碼介於\",bottom,\"到\",top)\n",
        "  else:\n",
        "    print(\"恭喜答對，密碼為\",code)\n",
        "    break\n"
      ],
      "execution_count": 15,
      "outputs": [
        {
          "output_type": "stream",
          "text": [
            "24\n",
            "密碼介於 24 到 100\n",
            "12\n",
            "請輸入範圍內的數字\n",
            "密碼介於 24 到 100\n",
            "78\n",
            "密碼介於 24 到 78\n",
            "50\n",
            "密碼介於 50 到 78\n",
            "60\n",
            "密碼介於 50 到 60\n",
            "55\n",
            "密碼介於 50 到 55\n",
            "53\n",
            "密碼介於 50 到 53\n",
            "52\n",
            "密碼介於 50 到 52\n",
            "51\n",
            "恭喜答對，密碼為 51\n"
          ],
          "name": "stdout"
        }
      ]
    }
  ]
}