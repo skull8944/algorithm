{
  "nbformat": 4,
  "nbformat_minor": 0,
  "metadata": {
    "colab": {
      "name": "1104hanoi.ipynb",
      "provenance": [],
      "authorship_tag": "ABX9TyMdNd9/rk4Ipg01uhGGdUK/",
      "include_colab_link": true
    },
    "kernelspec": {
      "name": "python3",
      "display_name": "Python 3"
    }
  },
  "cells": [
    {
      "cell_type": "markdown",
      "metadata": {
        "id": "view-in-github",
        "colab_type": "text"
      },
      "source": [
        "<a href=\"https://colab.research.google.com/github/skull8944/algorithm/blob/master/1104hanoi.ipynb\" target=\"_parent\"><img src=\"https://colab.research.google.com/assets/colab-badge.svg\" alt=\"Open In Colab\"/></a>"
      ]
    },
    {
      "cell_type": "code",
      "metadata": {
        "id": "h9J0YrFNEOFv",
        "outputId": "6adeb164-5de4-4c5e-c561-c159b4de4eaa",
        "colab": {
          "base_uri": "https://localhost:8080/"
        }
      },
      "source": [
        "def hanoi(n,a,b,c):\n",
        "  if n > 0:\n",
        "    hanoi(n-1,a,c,b)\n",
        "    print(\"把盤子\",n,\"從\",a,\"移到\",c)\n",
        "    hanoi(n-1,b,a,c)\n",
        "n = int(input(\"請輸入河內塔的層數:\"))\n",
        "hanoi(n,'a','b','c')"
      ],
      "execution_count": 15,
      "outputs": [
        {
          "output_type": "stream",
          "text": [
            "請輸入河內塔的層數:3\n",
            "把盤子 1 從 a 移到 c\n",
            "把盤子 2 從 a 移到 b\n",
            "把盤子 1 從 c 移到 b\n",
            "把盤子 3 從 a 移到 c\n",
            "把盤子 1 從 b 移到 a\n",
            "把盤子 2 從 b 移到 c\n",
            "把盤子 1 從 a 移到 c\n"
          ],
          "name": "stdout"
        }
      ]
    }
  ]
}