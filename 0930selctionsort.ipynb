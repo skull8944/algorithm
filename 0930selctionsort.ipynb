{
  "nbformat": 4,
  "nbformat_minor": 0,
  "metadata": {
    "colab": {
      "name": "selctionsort.ipynb",
      "provenance": [],
      "collapsed_sections": [],
      "include_colab_link": true
    },
    "kernelspec": {
      "name": "python3",
      "display_name": "Python 3"
    }
  },
  "cells": [
    {
      "cell_type": "markdown",
      "metadata": {
        "id": "view-in-github",
        "colab_type": "text"
      },
      "source": [
        "<a href=\"https://colab.research.google.com/github/skull8944/algorithm/blob/master/0930selctionsort.ipynb\" target=\"_parent\"><img src=\"https://colab.research.google.com/assets/colab-badge.svg\" alt=\"Open In Colab\"/></a>"
      ]
    },
    {
      "cell_type": "markdown",
      "metadata": {
        "id": "W-Z0kMaDLJOp"
      },
      "source": [
        "Selection sort (選擇排序)"
      ]
    },
    {
      "cell_type": "code",
      "metadata": {
        "id": "8tM3sv79HQ_V",
        "outputId": "294f9430-4556-4830-d056-1521679d63f5",
        "colab": {
          "base_uri": "https://localhost:8080/",
          "height": 554
        }
      },
      "source": [
        "def Selction_Sort(datas):\n",
        "    for i in range(len(datas)-1):                           # n\n",
        "        min = i # 第一次選從第一個數開始,第二次從第二個數開始           # n-1\n",
        "        for j in range(i+1, len(datas)):    # 用記錄的max數與其他的比較   # (n-1)(n-1)\n",
        "            if datas[j] < datas[min]:                     # \n",
        "                min = j                           # (n-1)(n-2)\n",
        "\n",
        "        datas[i], datas[min] = datas[min], datas[i]                 # (n-1)\n",
        "\n",
        "        print(datas)                                  # (n-1)\n",
        "        print('---'*10)                                 # (n-1)\n",
        "    return datas                                      # 1\n",
        "                                                #total = 2n^2 => O(n^2)\n",
        "\n",
        "if __name__ == '__main__':\n",
        "    import random                                     \n",
        "    a = list(range(16))                                  \n",
        "    random.shuffle(a)                                   \n",
        "    print(a)                                        \n",
        "    a = Selction_Sort(a)                                \n",
        "    print(a)                                        "
      ],
      "execution_count": null,
      "outputs": [
        {
          "output_type": "stream",
          "text": [
            "[3, 1, 4, 14, 12, 2, 5, 10, 6, 7, 15, 8, 13, 0, 9, 11]\n",
            "[0, 1, 4, 14, 12, 2, 5, 10, 6, 7, 15, 8, 13, 3, 9, 11]\n",
            "------------------------------\n",
            "[0, 1, 4, 14, 12, 2, 5, 10, 6, 7, 15, 8, 13, 3, 9, 11]\n",
            "------------------------------\n",
            "[0, 1, 2, 14, 12, 4, 5, 10, 6, 7, 15, 8, 13, 3, 9, 11]\n",
            "------------------------------\n",
            "[0, 1, 2, 3, 12, 4, 5, 10, 6, 7, 15, 8, 13, 14, 9, 11]\n",
            "------------------------------\n",
            "[0, 1, 2, 3, 4, 12, 5, 10, 6, 7, 15, 8, 13, 14, 9, 11]\n",
            "------------------------------\n",
            "[0, 1, 2, 3, 4, 5, 12, 10, 6, 7, 15, 8, 13, 14, 9, 11]\n",
            "------------------------------\n",
            "[0, 1, 2, 3, 4, 5, 6, 10, 12, 7, 15, 8, 13, 14, 9, 11]\n",
            "------------------------------\n",
            "[0, 1, 2, 3, 4, 5, 6, 7, 12, 10, 15, 8, 13, 14, 9, 11]\n",
            "------------------------------\n",
            "[0, 1, 2, 3, 4, 5, 6, 7, 8, 10, 15, 12, 13, 14, 9, 11]\n",
            "------------------------------\n",
            "[0, 1, 2, 3, 4, 5, 6, 7, 8, 9, 15, 12, 13, 14, 10, 11]\n",
            "------------------------------\n",
            "[0, 1, 2, 3, 4, 5, 6, 7, 8, 9, 10, 12, 13, 14, 15, 11]\n",
            "------------------------------\n",
            "[0, 1, 2, 3, 4, 5, 6, 7, 8, 9, 10, 11, 13, 14, 15, 12]\n",
            "------------------------------\n",
            "[0, 1, 2, 3, 4, 5, 6, 7, 8, 9, 10, 11, 12, 14, 15, 13]\n",
            "------------------------------\n",
            "[0, 1, 2, 3, 4, 5, 6, 7, 8, 9, 10, 11, 12, 13, 15, 14]\n",
            "------------------------------\n",
            "[0, 1, 2, 3, 4, 5, 6, 7, 8, 9, 10, 11, 12, 13, 14, 15]\n",
            "------------------------------\n",
            "[0, 1, 2, 3, 4, 5, 6, 7, 8, 9, 10, 11, 12, 13, 14, 15]\n"
          ],
          "name": "stdout"
        }
      ]
    },
    {
      "cell_type": "markdown",
      "metadata": {
        "id": "MiWPt8bALDN5"
      },
      "source": [
        "請加入註解\n"
      ]
    }
  ]
}