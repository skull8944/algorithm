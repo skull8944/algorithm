{
  "nbformat": 4,
  "nbformat_minor": 0,
  "metadata": {
    "colab": {
      "name": "1014binarysearch.ipynb",
      "provenance": [],
      "collapsed_sections": [],
      "authorship_tag": "ABX9TyPw+YhbiEQOmxw2XpRXSOUj",
      "include_colab_link": true
    },
    "kernelspec": {
      "name": "python3",
      "display_name": "Python 3"
    }
  },
  "cells": [
    {
      "cell_type": "markdown",
      "metadata": {
        "id": "view-in-github",
        "colab_type": "text"
      },
      "source": [
        "<a href=\"https://colab.research.google.com/github/skull8944/algorithm/blob/master/1014binarysearch.ipynb\" target=\"_parent\"><img src=\"https://colab.research.google.com/assets/colab-badge.svg\" alt=\"Open In Colab\"/></a>"
      ]
    },
    {
      "cell_type": "code",
      "metadata": {
        "id": "3temcyjp6OeE",
        "outputId": "5b887862-ce34-4ef5-9536-4b06e2d0aedf",
        "colab": {
          "base_uri": "https://localhost:8080/",
          "height": 34
        }
      },
      "source": [
        "def binarySearch(arr,x):  \n",
        "  l = 0\n",
        "  r = len(arr)-1 \n",
        "  while l <= r: \n",
        "    mid = (r+l) // 2;                \n",
        "    if arr[mid] == x: \n",
        "      return mid \n",
        "    elif arr[mid] < x: \n",
        "      l = mid + 1\n",
        "    else: \n",
        "      r = mid - 1\n",
        "  return -1\n",
        "\n",
        "arr = [5,8,9,15,30]\n",
        "x = 10\n",
        "  \n",
        "result = binarySearch(arr,x) \n",
        "  \n",
        "if result != -1: \n",
        "  print (\"Element is present at index % d\" % result) \n",
        "else: \n",
        "  print (\"Element is not present in array\") "
      ],
      "execution_count": 27,
      "outputs": [
        {
          "output_type": "stream",
          "text": [
            "Element is not present in array\n"
          ],
          "name": "stdout"
        }
      ]
    },
    {
      "cell_type": "code",
      "metadata": {
        "id": "IoLnmp4TAQL5",
        "outputId": "335a940e-d374-4f58-c2ff-8d695f65d3d7",
        "colab": {
          "base_uri": "https://localhost:8080/",
          "height": 202
        }
      },
      "source": [
        "def binarySearch(arr,x):  \n",
        "  l = 0\n",
        "  r = len(arr)-1 \n",
        "  while l <= r: \n",
        "    mid = (r+l) // 2;                \n",
        "    if arr[mid] == x: \n",
        "      return mid \n",
        "    elif arr[mid] < x: \n",
        "      l = mid + 1\n",
        "    else: \n",
        "      r = mid - 1\n",
        "  return -1\n",
        "\n",
        "def Bubble_Sort(datas):\n",
        "  for i in range(1, len(datas)): \n",
        "    for j in range(len(datas)-i):   \n",
        "      if datas[j] > datas[j+1]:   \n",
        "        datas[j], datas[j+1] = datas[j+1], datas[j]\n",
        "  return datas\n",
        "\n",
        "print(\"Please enter 5 integer numbers\")\n",
        "arr = []\n",
        "for i in range(5):\n",
        "  arr.append(int(input())) \n",
        "\n",
        "print(arr)\n",
        "arr = Bubble_Sort(arr)\n",
        "print(arr)\n",
        "print(\"Please enter the key value you want to search:\")\n",
        "x = int(input())  \n",
        "result = binarySearch(arr,x) \n",
        "  \n",
        "if result != -1: \n",
        "  print (\"Element is present at index % d\" % result) \n",
        "else: \n",
        "  print (\"Element is not present in array\") "
      ],
      "execution_count": 34,
      "outputs": [
        {
          "output_type": "stream",
          "text": [
            "Please enter 5 integer numbers\n",
            "14\n",
            "21\n",
            "616\n",
            "35\n",
            "267\n",
            "[14, 21, 616, 35, 267]\n",
            "[14, 21, 35, 267, 616]\n",
            "Please enter the key value you want to search:\n",
            "267\n",
            "Element is present at index  3\n"
          ],
          "name": "stdout"
        }
      ]
    }
  ]
}